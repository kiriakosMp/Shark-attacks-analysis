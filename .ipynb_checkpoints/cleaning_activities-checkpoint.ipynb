{
 "cells": [
  {
   "cell_type": "markdown",
   "id": "d0ebe465",
   "metadata": {},
   "source": [
    "# The code bellow categorizes the activities into 10 activity buckets "
   ]
  },
  {
   "cell_type": "code",
   "execution_count": 327,
   "id": "41a20e6e",
   "metadata": {},
   "outputs": [],
   "source": [
    "import pandas as pd\n",
    "from pandas import DataFrame, Series\n",
    "import matplotlib.pyplot as plt\n",
    "import numpy as np"
   ]
  },
  {
   "cell_type": "code",
   "execution_count": 328,
   "id": "66d46a4a",
   "metadata": {},
   "outputs": [],
   "source": [
    "df = pd.read_csv('files_for_plots/attacks2.csv')"
   ]
  },
  {
   "cell_type": "code",
   "execution_count": 329,
   "id": "d3189fdc",
   "metadata": {},
   "outputs": [],
   "source": [
    "df['Activity'].fillna('Other',inplace=True)"
   ]
  },
  {
   "cell_type": "code",
   "execution_count": 330,
   "id": "0832348e",
   "metadata": {},
   "outputs": [
    {
     "data": {
      "text/plain": [
       "Surfing                                1025\n",
       "Swimming                                932\n",
       "Other                                   552\n",
       "Fishing                                 459\n",
       "Spearfishing                            350\n",
       "                                       ... \n",
       "Feeding mullet to sharks                  1\n",
       "Sight-seeing                              1\n",
       "Netting pilchards                         1\n",
       "Surf-fishing                              1\n",
       "Wreck of large double sailing canoe       1\n",
       "Name: Activity, Length: 1517, dtype: int64"
      ]
     },
     "execution_count": 330,
     "metadata": {},
     "output_type": "execute_result"
    }
   ],
   "source": [
    "df['Activity'].value_counts()"
   ]
  },
  {
   "cell_type": "raw",
   "id": "8753f5b4",
   "metadata": {},
   "source": [
    "Surfing, \n",
    "Swimming, \n",
    "Fishing, \n",
    "-Diving/Spearfishing, \n",
    "-Wading/Standing, \n",
    "-Kayaking, \n",
    "-Shark related activities, \n",
    "-Jump/Fell overboard, \n",
    "-Boat capsized, \n",
    "-Shipwreck, \n",
    "-Air disaster"
   ]
  },
  {
   "cell_type": "markdown",
   "id": "02268593",
   "metadata": {},
   "source": [
    "# Shark related activities"
   ]
  },
  {
   "cell_type": "code",
   "execution_count": 331,
   "id": "5c89353f",
   "metadata": {},
   "outputs": [],
   "source": [
    "shark_set = set(df['Activity'].loc[df['Activity'].str.contains('shark')])"
   ]
  },
  {
   "cell_type": "code",
   "execution_count": 332,
   "id": "1c16a68a",
   "metadata": {},
   "outputs": [],
   "source": [
    "for i in shark_set:\n",
    "    df['Activity'].replace(i,'Shark related activities',inplace=True)"
   ]
  },
  {
   "cell_type": "code",
   "execution_count": 333,
   "id": "7e923ea9",
   "metadata": {},
   "outputs": [],
   "source": [
    "shark_set2 = set(df['Activity'].loc[df['Activity'].str.contains('Shark')])"
   ]
  },
  {
   "cell_type": "code",
   "execution_count": 334,
   "id": "31265bd2",
   "metadata": {},
   "outputs": [],
   "source": [
    "for i in shark_set2:\n",
    "    df['Activity'].replace(i,'Shark related activities',inplace=True)"
   ]
  },
  {
   "cell_type": "markdown",
   "id": "e0970ee5",
   "metadata": {},
   "source": [
    "1517\n",
    "1328"
   ]
  },
  {
   "cell_type": "markdown",
   "id": "184b4cd9",
   "metadata": {},
   "source": [
    "# Sea disaster"
   ]
  },
  {
   "cell_type": "code",
   "execution_count": 335,
   "id": "15e5f0f5",
   "metadata": {},
   "outputs": [],
   "source": [
    "shipwreck_set = set(df['Activity'].loc[df['Activity'].str.contains('Shipwreck')])"
   ]
  },
  {
   "cell_type": "code",
   "execution_count": 336,
   "id": "83a6585b",
   "metadata": {},
   "outputs": [],
   "source": [
    "shipwreck_set2 = set(df['Activity'].loc[df['Activity'].str.contains('shipwreck')])"
   ]
  },
  {
   "cell_type": "code",
   "execution_count": 337,
   "id": "7a1181f4",
   "metadata": {},
   "outputs": [],
   "source": [
    "for i in shipwreck_set:\n",
    "    df['Activity'].replace(i,'Sea disaster',inplace=True)\n",
    "    \n",
    "for j in shipwreck_set2:\n",
    "    df['Activity'].replace(j,'Sea disaster',inplace=True)"
   ]
  },
  {
   "cell_type": "code",
   "execution_count": 338,
   "id": "12c36934",
   "metadata": {},
   "outputs": [],
   "source": [
    "sea_disaster_set = set(df['Activity'].loc[df['Activity'].str.contains('Sea disaster')])"
   ]
  },
  {
   "cell_type": "code",
   "execution_count": 339,
   "id": "cab86e73",
   "metadata": {},
   "outputs": [],
   "source": [
    "sea_disaster_set2 = set(df['Activity'].loc[df['Activity'].str.contains('Sea Disaster')])"
   ]
  },
  {
   "cell_type": "code",
   "execution_count": 340,
   "id": "da973767",
   "metadata": {},
   "outputs": [],
   "source": [
    "for i in sea_disaster_set:\n",
    "    df['Activity'].replace(i,'Sea disaster',inplace=True)\n",
    "    \n",
    "for j in sea_disaster_set2:\n",
    "    df['Activity'].replace(j,'Sea disaster',inplace=True)"
   ]
  },
  {
   "cell_type": "code",
   "execution_count": 341,
   "id": "4236f95d",
   "metadata": {},
   "outputs": [],
   "source": [
    "capsized_set = set(df['Activity'].loc[df['Activity'].str.contains('capsized')])"
   ]
  },
  {
   "cell_type": "code",
   "execution_count": 342,
   "id": "296eaa8c",
   "metadata": {},
   "outputs": [],
   "source": [
    "for j in capsized_set:\n",
    "    df['Activity'].replace(j,'Sea disaster',inplace=True)"
   ]
  },
  {
   "cell_type": "code",
   "execution_count": 343,
   "id": "810d2298",
   "metadata": {},
   "outputs": [],
   "source": [
    "wreck_set = set(df['Activity'].loc[df['Activity'].str.contains('Wreck')])\n",
    "\n",
    "wreck_set2 = set(df['Activity'].loc[df['Activity'].str.contains('wreck')])"
   ]
  },
  {
   "cell_type": "code",
   "execution_count": 344,
   "id": "480abda4",
   "metadata": {},
   "outputs": [],
   "source": [
    "for i in wreck_set:\n",
    "    df['Activity'].replace(i,'Sea disaster',inplace=True)\n",
    "    \n",
    "for j in wreck_set2:\n",
    "    df['Activity'].replace(j,'Sea disaster',inplace=True)"
   ]
  },
  {
   "cell_type": "code",
   "execution_count": 345,
   "id": "8fdca3c2",
   "metadata": {},
   "outputs": [],
   "source": [
    "sink_set = set(df['Activity'].loc[df['Activity'].str.contains('Sink')])\n",
    "\n",
    "sink_set2 = set(df['Activity'].loc[df['Activity'].str.contains('sink')])\n",
    "\n",
    "sank_set = set(df['Activity'].loc[df['Activity'].str.contains('sank')])"
   ]
  },
  {
   "cell_type": "code",
   "execution_count": 346,
   "id": "6ff4294c",
   "metadata": {},
   "outputs": [],
   "source": [
    "for i in sink_set:\n",
    "    df['Activity'].replace(i,'Sea disaster',inplace=True)\n",
    "    \n",
    "for j in sink_set2:\n",
    "    df['Activity'].replace(j,'Sea disaster',inplace=True)\n",
    "\n",
    "for k in sank_set:\n",
    "    df['Activity'].replace(k,'Sea disaster',inplace=True)"
   ]
  },
  {
   "cell_type": "code",
   "execution_count": 347,
   "id": "7124fc33",
   "metadata": {},
   "outputs": [],
   "source": [
    "ship_set = set(df['Activity'].loc[df['Activity'].str.contains('ship')])\n",
    "\n",
    "ship_set2 = set(df['Activity'].loc[df['Activity'].str.contains('Ship')])"
   ]
  },
  {
   "cell_type": "code",
   "execution_count": 348,
   "id": "aa7f4d4e",
   "metadata": {},
   "outputs": [],
   "source": [
    "for i in ship_set:\n",
    "    df['Activity'].replace(i,'Sea disaster',inplace=True)\n",
    "    \n",
    "for j in ship_set2:\n",
    "    df['Activity'].replace(j,'Sea disaster',inplace=True)"
   ]
  },
  {
   "cell_type": "code",
   "execution_count": 349,
   "id": "3a9d7a4f",
   "metadata": {},
   "outputs": [],
   "source": [
    "tanker_set = set(df['Activity'].loc[df['Activity'].str.contains('tanker')])"
   ]
  },
  {
   "cell_type": "code",
   "execution_count": 350,
   "id": "dd78e308",
   "metadata": {},
   "outputs": [],
   "source": [
    "for i in tanker_set:\n",
    "    df['Activity'].replace(i,'Sea disaster',inplace=True)"
   ]
  },
  {
   "cell_type": "code",
   "execution_count": null,
   "id": "5f19764e",
   "metadata": {},
   "outputs": [],
   "source": []
  },
  {
   "cell_type": "markdown",
   "id": "593dca4c",
   "metadata": {},
   "source": [
    "1328 1285"
   ]
  },
  {
   "cell_type": "markdown",
   "id": "f406e8c6",
   "metadata": {},
   "source": [
    "# Wading/Standing"
   ]
  },
  {
   "cell_type": "code",
   "execution_count": 351,
   "id": "335f928d",
   "metadata": {},
   "outputs": [],
   "source": [
    "wading_set = set(df['Activity'].loc[df['Activity'].str.contains('Wading')])"
   ]
  },
  {
   "cell_type": "code",
   "execution_count": 352,
   "id": "81022928",
   "metadata": {},
   "outputs": [],
   "source": [
    "standing_set = df['Activity'].loc[df['Activity'].str.contains('Standing')]"
   ]
  },
  {
   "cell_type": "code",
   "execution_count": 353,
   "id": "ae14101f",
   "metadata": {},
   "outputs": [],
   "source": [
    "for i in wading_set:\n",
    "    df['Activity'].replace(i,'Wading/Standing',inplace=True)\n",
    "    \n",
    "for j in standing_set:\n",
    "    df['Activity'].replace(j,'Wading/Standing',inplace=True)"
   ]
  },
  {
   "cell_type": "code",
   "execution_count": 354,
   "id": "7720ba90",
   "metadata": {},
   "outputs": [],
   "source": [
    "walk_set = set(df['Activity'].loc[df['Activity'].str.contains('Walking')])"
   ]
  },
  {
   "cell_type": "code",
   "execution_count": 355,
   "id": "1a251c5c",
   "metadata": {},
   "outputs": [],
   "source": [
    "for i in walk_set:\n",
    "    df['Activity'].replace(i,'Wading/Standing',inplace=True)"
   ]
  },
  {
   "cell_type": "code",
   "execution_count": 356,
   "id": "2559c6fd",
   "metadata": {},
   "outputs": [],
   "source": [
    "play_set = set(df['Activity'].loc[df['Activity'].str.contains('Playing')])\n",
    "\n",
    "tread_set = set(df['Activity'].loc[df['Activity'].str.contains('Tread')])\n",
    "\n",
    "splash_set = set(df['Activity'].loc[df['Activity'].str.contains('Splash')])"
   ]
  },
  {
   "cell_type": "code",
   "execution_count": 357,
   "id": "c5a75144",
   "metadata": {},
   "outputs": [],
   "source": [
    "for i in play_set:\n",
    "    df['Activity'].replace(i,'Wading/Standing',inplace=True)\n",
    "    \n",
    "for j in tread_set:\n",
    "    df['Activity'].replace(j,'Wading/Standing',inplace=True)\n",
    "    \n",
    "for k in splash_set:\n",
    "    df['Activity'].replace(k,'Wading/Standing',inplace=True)    "
   ]
  },
  {
   "cell_type": "code",
   "execution_count": null,
   "id": "5ed3ce4e",
   "metadata": {},
   "outputs": [],
   "source": []
  },
  {
   "cell_type": "markdown",
   "id": "2267d3af",
   "metadata": {},
   "source": [
    "1285 1241"
   ]
  },
  {
   "cell_type": "markdown",
   "id": "7a296894",
   "metadata": {},
   "source": [
    "# Air disaster"
   ]
  },
  {
   "cell_type": "code",
   "execution_count": 358,
   "id": "fceeeb29",
   "metadata": {},
   "outputs": [],
   "source": [
    "air_set = set(df['Activity'].loc[df['Activity'].str.contains('Air Disaster')])\n",
    "air_set2 = set(df['Activity'].loc[df['Activity'].str.contains('Air disaster')])"
   ]
  },
  {
   "cell_type": "code",
   "execution_count": 359,
   "id": "6640465b",
   "metadata": {},
   "outputs": [],
   "source": [
    "for i in air_set:\n",
    "    df['Activity'].replace(i,'Air disaster',inplace=True)\n",
    "    \n",
    "for j in air_set2:\n",
    "    df['Activity'].replace(j,'Air disaster',inplace=True)"
   ]
  },
  {
   "cell_type": "code",
   "execution_count": 360,
   "id": "723aab32",
   "metadata": {},
   "outputs": [],
   "source": [
    "plane_set = set(df['Activity'].loc[df['Activity'].str.contains('plane')])"
   ]
  },
  {
   "cell_type": "code",
   "execution_count": 361,
   "id": "8274bbd9",
   "metadata": {},
   "outputs": [],
   "source": [
    "aircraft_set = set(df['Activity'].loc[df['Activity'].str.contains('aircraft')])"
   ]
  },
  {
   "cell_type": "code",
   "execution_count": 362,
   "id": "9cfda46d",
   "metadata": {},
   "outputs": [],
   "source": [
    "for i in plane_set:\n",
    "    df['Activity'].replace(i,'Air disaster',inplace=True)\n",
    "    \n",
    "for j in aircraft_set:\n",
    "    df['Activity'].replace(j,'Air disaster',inplace=True)"
   ]
  },
  {
   "cell_type": "code",
   "execution_count": 363,
   "id": "0d684922",
   "metadata": {},
   "outputs": [],
   "source": [
    "aircraft_set2 = set(df['Activity'].loc[df['Activity'].str.contains('Aircraft')])"
   ]
  },
  {
   "cell_type": "code",
   "execution_count": 364,
   "id": "8f64c563",
   "metadata": {},
   "outputs": [],
   "source": [
    "for j in aircraft_set2:\n",
    "    df['Activity'].replace(j,'Air disaster',inplace=True)"
   ]
  },
  {
   "cell_type": "markdown",
   "id": "56713826",
   "metadata": {},
   "source": [
    "1241 1237"
   ]
  },
  {
   "cell_type": "markdown",
   "id": "6687d401",
   "metadata": {},
   "source": [
    "# Kayaking"
   ]
  },
  {
   "cell_type": "code",
   "execution_count": 365,
   "id": "7265e230",
   "metadata": {},
   "outputs": [],
   "source": [
    "kayaking_set = set(df['Activity'].loc[df['Activity'].str.contains('Kayak')])"
   ]
  },
  {
   "cell_type": "code",
   "execution_count": 366,
   "id": "8e5b1afe",
   "metadata": {},
   "outputs": [],
   "source": [
    "kayaking_set2 = set(df['Activity'].loc[df['Activity'].str.contains('kayak')])"
   ]
  },
  {
   "cell_type": "code",
   "execution_count": 367,
   "id": "64bc95e8",
   "metadata": {},
   "outputs": [],
   "source": [
    "canoe_set = set(df['Activity'].loc[df['Activity'].str.contains('Canoe')])\n",
    "\n",
    "canoe_set2 = set(df['Activity'].loc[df['Activity'].str.contains('canoe')])"
   ]
  },
  {
   "cell_type": "code",
   "execution_count": 368,
   "id": "ea9aee8d",
   "metadata": {},
   "outputs": [],
   "source": [
    "for i in kayaking_set:\n",
    "    df['Activity'].replace(i,'Kayaking',inplace=True)\n",
    "    \n",
    "for j in kayaking_set2:\n",
    "    df['Activity'].replace(j,'Kayaking',inplace=True)"
   ]
  },
  {
   "cell_type": "code",
   "execution_count": 369,
   "id": "24e5995a",
   "metadata": {},
   "outputs": [],
   "source": [
    "for i in canoe_set:\n",
    "    df['Activity'].replace(i,'Kayaking',inplace=True)\n",
    "    \n",
    "for j in canoe_set2:\n",
    "    df['Activity'].replace(j,'Kayaking',inplace=True)"
   ]
  },
  {
   "cell_type": "markdown",
   "id": "4607b56e",
   "metadata": {},
   "source": [
    "1237 1227"
   ]
  },
  {
   "cell_type": "markdown",
   "id": "815fc722",
   "metadata": {},
   "source": [
    "# Jump/Fell overboard"
   ]
  },
  {
   "cell_type": "code",
   "execution_count": 370,
   "id": "2ce8f297",
   "metadata": {},
   "outputs": [],
   "source": [
    "overboard_set = set(df['Activity'].loc[df['Activity'].str.contains('overboard')])"
   ]
  },
  {
   "cell_type": "code",
   "execution_count": 371,
   "id": "f5ec7da8",
   "metadata": {},
   "outputs": [],
   "source": [
    "for i in overboard_set:\n",
    "    df['Activity'].replace(i,'Jump/Fell overboard',inplace=True)"
   ]
  },
  {
   "cell_type": "code",
   "execution_count": 372,
   "id": "4b742c96",
   "metadata": {},
   "outputs": [],
   "source": [
    "fell_set = set(df['Activity'].loc[df['Activity'].str.contains('Fell')])\n",
    "\n",
    "fell_set2 = set(df['Activity'].loc[df['Activity'].str.contains('fell')])"
   ]
  },
  {
   "cell_type": "code",
   "execution_count": 373,
   "id": "9d024c77",
   "metadata": {},
   "outputs": [],
   "source": [
    "for i in fell_set:\n",
    "    df['Activity'].replace(i,'Jump/Fell overboard',inplace=True)\n",
    "    \n",
    "for i in fell_set2:\n",
    "    df['Activity'].replace(i,'Jump/Fell overboard',inplace=True)"
   ]
  },
  {
   "cell_type": "code",
   "execution_count": 374,
   "id": "5e4f467a",
   "metadata": {},
   "outputs": [],
   "source": [
    "jump_set = set(df['Activity'].loc[df['Activity'].str.contains('Jump')])"
   ]
  },
  {
   "cell_type": "code",
   "execution_count": 375,
   "id": "d844593b",
   "metadata": {},
   "outputs": [],
   "source": [
    "for i in jump_set:\n",
    "    df['Activity'].replace(i,'Jump/Fell overboard',inplace=True)"
   ]
  },
  {
   "cell_type": "markdown",
   "id": "752e09ab",
   "metadata": {},
   "source": [
    "1227 1167"
   ]
  },
  {
   "cell_type": "markdown",
   "id": "36b5de1c",
   "metadata": {},
   "source": [
    "# Spearfishing"
   ]
  },
  {
   "cell_type": "code",
   "execution_count": 376,
   "id": "afa83cc4",
   "metadata": {},
   "outputs": [],
   "source": [
    "spear_set = set(df['Activity'].loc[df['Activity'].str.contains('Spearfishing')])"
   ]
  },
  {
   "cell_type": "code",
   "execution_count": 377,
   "id": "2da74057",
   "metadata": {},
   "outputs": [],
   "source": [
    "spear_set2 = set(df['Activity'].loc[df['Activity'].str.contains('spearfishing')])"
   ]
  },
  {
   "cell_type": "code",
   "execution_count": 378,
   "id": "6dfcb6a4",
   "metadata": {},
   "outputs": [],
   "source": [
    "for i in spear_set:\n",
    "    df['Activity'].replace(i,'Diving/Spearfishing',inplace=True)\n",
    "    \n",
    "for j in spear_set2:\n",
    "    df['Activity'].replace(j,'Diving/Spearfishing',inplace=True)"
   ]
  },
  {
   "cell_type": "code",
   "execution_count": 379,
   "id": "33ec1322",
   "metadata": {},
   "outputs": [
    {
     "data": {
      "text/plain": [
       "Diving/Spearfishing                        431\n",
       "Spearing fish                                3\n",
       "Spear fishing, removing fish from spear      1\n",
       "Spear fishing                                1\n",
       "Name: Activity, dtype: int64"
      ]
     },
     "execution_count": 379,
     "metadata": {},
     "output_type": "execute_result"
    }
   ],
   "source": [
    "df['Activity'].loc[df['Activity'].str.contains('Spear')].value_counts()"
   ]
  },
  {
   "cell_type": "code",
   "execution_count": null,
   "id": "3c3600d4",
   "metadata": {},
   "outputs": [],
   "source": []
  },
  {
   "cell_type": "markdown",
   "id": "a6c82753",
   "metadata": {},
   "source": [
    "1167 1108"
   ]
  },
  {
   "cell_type": "markdown",
   "id": "e3741c7b",
   "metadata": {},
   "source": [
    "# Diving"
   ]
  },
  {
   "cell_type": "code",
   "execution_count": 380,
   "id": "bd17c35a",
   "metadata": {},
   "outputs": [],
   "source": [
    "diving_set = set(df['Activity'].loc[df['Activity'].str.contains('diving')])\n",
    "\n",
    "diving_set2 = set(df['Activity'].loc[df['Activity'].str.contains('Diving')])"
   ]
  },
  {
   "cell_type": "code",
   "execution_count": 381,
   "id": "a543855b",
   "metadata": {},
   "outputs": [],
   "source": [
    "for i in diving_set:\n",
    "    df['Activity'].replace(i,'Diving/Spearfishing',inplace=True)\n",
    "    \n",
    "for j in diving_set2:\n",
    "    df['Activity'].replace(j,'Diving/Spearfishing',inplace=True)"
   ]
  },
  {
   "cell_type": "code",
   "execution_count": 382,
   "id": "29882349",
   "metadata": {},
   "outputs": [],
   "source": [
    "diving_set3 = set(df['Activity'].loc[df['Activity'].str.contains('dive')])"
   ]
  },
  {
   "cell_type": "code",
   "execution_count": 383,
   "id": "5e928f28",
   "metadata": {},
   "outputs": [],
   "source": [
    "for i in diving_set3:\n",
    "    df['Activity'].replace(i,'Diving/Spearfishing',inplace=True)"
   ]
  },
  {
   "cell_type": "markdown",
   "id": "63721780",
   "metadata": {},
   "source": [
    "1108 936"
   ]
  },
  {
   "cell_type": "markdown",
   "id": "74c79132",
   "metadata": {},
   "source": [
    "# Fishing"
   ]
  },
  {
   "cell_type": "code",
   "execution_count": 384,
   "id": "de514990",
   "metadata": {},
   "outputs": [],
   "source": [
    "#fishing_set = set(df['Activity'].loc[df['Activity'].str.contains('fishing')])\n",
    "\n",
    "fishing_set2 = set(df['Activity'].loc[df['Activity'].str.contains('Fishing')])"
   ]
  },
  {
   "cell_type": "code",
   "execution_count": 385,
   "id": "7b5775e7",
   "metadata": {},
   "outputs": [],
   "source": [
    "#for i in fishing_set:\n",
    "#    df['Activity'].replace(i,'Fishing',inplace=True)\n",
    "    \n",
    "for j in fishing_set2:\n",
    "    df['Activity'].replace(j,'Fishing',inplace=True)"
   ]
  },
  {
   "cell_type": "markdown",
   "id": "1a64c09d",
   "metadata": {},
   "source": [
    "936 838"
   ]
  },
  {
   "cell_type": "markdown",
   "id": "8493000a",
   "metadata": {},
   "source": [
    "i should find out what to do with fishing"
   ]
  },
  {
   "cell_type": "markdown",
   "id": "6248b3eb",
   "metadata": {},
   "source": [
    "# Swimming"
   ]
  },
  {
   "cell_type": "code",
   "execution_count": 386,
   "id": "016c4d81",
   "metadata": {},
   "outputs": [],
   "source": [
    "swim_set = set(df['Activity'].loc[df['Activity'].str.contains('Swimming')])"
   ]
  },
  {
   "cell_type": "code",
   "execution_count": 387,
   "id": "f9006cf1",
   "metadata": {},
   "outputs": [],
   "source": [
    "for i in swim_set:\n",
    "    df['Activity'].replace(i,'Swimming',inplace=True)"
   ]
  },
  {
   "cell_type": "code",
   "execution_count": 388,
   "id": "2fe26430",
   "metadata": {},
   "outputs": [],
   "source": [
    "swim_set2 = set(df['Activity'].loc[df['Activity'].str.contains('swimming')])"
   ]
  },
  {
   "cell_type": "code",
   "execution_count": 389,
   "id": "9f322112",
   "metadata": {},
   "outputs": [],
   "source": [
    "for i in swim_set2:\n",
    "    df['Activity'].replace(i,'Swimming',inplace=True)"
   ]
  },
  {
   "cell_type": "code",
   "execution_count": 390,
   "id": "8445246a",
   "metadata": {},
   "outputs": [],
   "source": [
    "body_surf_set = set(df['Activity'].loc[df['Activity'].str.contains('Body surfing')])"
   ]
  },
  {
   "cell_type": "code",
   "execution_count": 391,
   "id": "ad0d6e95",
   "metadata": {},
   "outputs": [],
   "source": [
    "for i in body_surf_set:\n",
    "    df['Activity'].replace(i,'Swimming',inplace=True)"
   ]
  },
  {
   "cell_type": "code",
   "execution_count": 392,
   "id": "15326202",
   "metadata": {},
   "outputs": [],
   "source": [
    "snorkeling_set = set(df['Activity'].loc[df['Activity'].str.contains('Snorkeling')])\n",
    "\n",
    "snorkeling_set2 = set(df['Activity'].loc[df['Activity'].str.contains('snorkeling')])"
   ]
  },
  {
   "cell_type": "code",
   "execution_count": 393,
   "id": "23f8640f",
   "metadata": {},
   "outputs": [],
   "source": [
    "for i in snorkeling_set:\n",
    "    df['Activity'].replace(i,'Swimming',inplace=True)\n",
    "    \n",
    "for j in snorkeling_set2:\n",
    "    df['Activity'].replace(j,'Swimming',inplace=True)"
   ]
  },
  {
   "cell_type": "code",
   "execution_count": 394,
   "id": "bf431e40",
   "metadata": {},
   "outputs": [],
   "source": [
    "bathing_set = set(df['Activity'].loc[df['Activity'].str.contains('Bathing')])\n",
    "\n",
    "bathing_set2 = set(df['Activity'].loc[df['Activity'].str.contains('bathing')])"
   ]
  },
  {
   "cell_type": "code",
   "execution_count": 395,
   "id": "57c06fc0",
   "metadata": {},
   "outputs": [],
   "source": [
    "for i in bathing_set:\n",
    "    df['Activity'].replace(i,'Swimming',inplace=True)\n",
    "    \n",
    "for j in bathing_set2:\n",
    "    df['Activity'].replace(j,'Swimming',inplace=True)"
   ]
  },
  {
   "cell_type": "code",
   "execution_count": 396,
   "id": "9d1b6094",
   "metadata": {},
   "outputs": [],
   "source": [
    "df['Activity'].replace('Bather','Swimming',inplace=True)"
   ]
  },
  {
   "cell_type": "code",
   "execution_count": 397,
   "id": "63c1512c",
   "metadata": {},
   "outputs": [],
   "source": [
    "float_set = set(df['Activity'].loc[df['Activity'].str.contains('Floating')])"
   ]
  },
  {
   "cell_type": "code",
   "execution_count": 398,
   "id": "b3cd880c",
   "metadata": {},
   "outputs": [],
   "source": [
    "for i in float_set:\n",
    "    df['Activity'].replace(i,'Swimming',inplace=True)"
   ]
  },
  {
   "cell_type": "markdown",
   "id": "27961230",
   "metadata": {},
   "source": [
    "# Surfing"
   ]
  },
  {
   "cell_type": "code",
   "execution_count": 399,
   "id": "c1ca2895",
   "metadata": {},
   "outputs": [],
   "source": [
    "boogie_set = set(df['Activity'].loc[df['Activity'].str.contains('boogie')])"
   ]
  },
  {
   "cell_type": "code",
   "execution_count": 400,
   "id": "584e1d0f",
   "metadata": {},
   "outputs": [],
   "source": [
    "for i in boogie_set:\n",
    "    df['Activity'].replace(i,'Surfing',inplace=True)"
   ]
  },
  {
   "cell_type": "code",
   "execution_count": 401,
   "id": "c7adcdb5",
   "metadata": {},
   "outputs": [],
   "source": [
    "boogie_set2 = set(df['Activity'].loc[df['Activity'].str.contains('Boogie')])"
   ]
  },
  {
   "cell_type": "code",
   "execution_count": 402,
   "id": "6b432481",
   "metadata": {},
   "outputs": [],
   "source": [
    "for i in boogie_set2:\n",
    "    df['Activity'].replace(i,'Surfing',inplace=True)"
   ]
  },
  {
   "cell_type": "code",
   "execution_count": 403,
   "id": "e517e7e3",
   "metadata": {},
   "outputs": [],
   "source": [
    "body_boarding_set = set(df['Activity'].loc[df['Activity'].str.contains('Body boarding')])"
   ]
  },
  {
   "cell_type": "code",
   "execution_count": 404,
   "id": "2b4632da",
   "metadata": {},
   "outputs": [],
   "source": [
    "for i in body_boarding_set:\n",
    "    df['Activity'].replace(i,'Surfing',inplace=True)"
   ]
  },
  {
   "cell_type": "code",
   "execution_count": 405,
   "id": "8f9d1521",
   "metadata": {},
   "outputs": [
    {
     "data": {
      "text/plain": [
       "890    Bodyboarding\n",
       "Name: Activity, dtype: object"
      ]
     },
     "execution_count": 405,
     "metadata": {},
     "output_type": "execute_result"
    }
   ],
   "source": [
    "df['Activity'].loc[df['Activity'].str.contains('Bodyboarding')]"
   ]
  },
  {
   "cell_type": "code",
   "execution_count": 406,
   "id": "a7359734",
   "metadata": {},
   "outputs": [],
   "source": [
    "df['Activity'].replace('Bodyboarding','Surfing',inplace=True)\n",
    "df['Activity'].replace('Body-boarding','Surfing',inplace=True)"
   ]
  },
  {
   "cell_type": "code",
   "execution_count": null,
   "id": "6ae2fb07",
   "metadata": {},
   "outputs": [],
   "source": []
  },
  {
   "cell_type": "code",
   "execution_count": 407,
   "id": "d9df86ed",
   "metadata": {},
   "outputs": [],
   "source": [
    "board_set = set(df['Activity'].loc[df['Activity'].str.contains('boarding')])"
   ]
  },
  {
   "cell_type": "code",
   "execution_count": 408,
   "id": "e0dbbd26",
   "metadata": {},
   "outputs": [],
   "source": [
    "for i in board_set:\n",
    "    df['Activity'].replace(i,'Surfing',inplace=True)"
   ]
  },
  {
   "cell_type": "code",
   "execution_count": 409,
   "id": "51dc1322",
   "metadata": {},
   "outputs": [],
   "source": [
    "board_set2 = set(df['Activity'].loc[df['Activity'].str.contains('Boarding')])"
   ]
  },
  {
   "cell_type": "code",
   "execution_count": 410,
   "id": "d8259bef",
   "metadata": {},
   "outputs": [
    {
     "data": {
      "text/plain": [
       "{'Body Boarding', 'Kite Boarding', 'Kite-Boarding', 'Paddle Boarding'}"
      ]
     },
     "execution_count": 410,
     "metadata": {},
     "output_type": "execute_result"
    }
   ],
   "source": [
    "board_set2"
   ]
  },
  {
   "cell_type": "code",
   "execution_count": 411,
   "id": "8738b965",
   "metadata": {},
   "outputs": [],
   "source": [
    "kite_set = set(df['Activity'].loc[df['Activity'].str.contains('Kite')])"
   ]
  },
  {
   "cell_type": "code",
   "execution_count": 412,
   "id": "f8db421f",
   "metadata": {},
   "outputs": [],
   "source": [
    "for i in kite_set:\n",
    "    df['Activity'].replace(i,'Surfing',inplace=True)"
   ]
  },
  {
   "cell_type": "code",
   "execution_count": 413,
   "id": "2c2bf5ae",
   "metadata": {},
   "outputs": [],
   "source": [
    "paddle_set = set(df['Activity'].loc[df['Activity'].str.contains('Paddle')])"
   ]
  },
  {
   "cell_type": "code",
   "execution_count": 414,
   "id": "6aac1b65",
   "metadata": {},
   "outputs": [],
   "source": [
    "for i in paddle_set:\n",
    "    df['Activity'].replace(i,'Surfing',inplace=True)"
   ]
  },
  {
   "cell_type": "code",
   "execution_count": 415,
   "id": "83e13211",
   "metadata": {},
   "outputs": [],
   "source": [
    "surf_set = set(df['Activity'].loc[df['Activity'].str.contains('surf')])"
   ]
  },
  {
   "cell_type": "code",
   "execution_count": 416,
   "id": "5963242d",
   "metadata": {},
   "outputs": [],
   "source": [
    "for i in surf_set:\n",
    "    df['Activity'].replace(i,'Surfing',inplace=True)"
   ]
  },
  {
   "cell_type": "code",
   "execution_count": 417,
   "id": "c60aa4d1",
   "metadata": {},
   "outputs": [],
   "source": [
    "surf_set2 = set(df['Activity'].loc[df['Activity'].str.contains('Surf')])"
   ]
  },
  {
   "cell_type": "code",
   "execution_count": 418,
   "id": "2c764019",
   "metadata": {},
   "outputs": [],
   "source": [
    "for i in surf_set2:\n",
    "    df['Activity'].replace(i,'Surfing',inplace=True)"
   ]
  },
  {
   "cell_type": "code",
   "execution_count": 419,
   "id": "3deccf57",
   "metadata": {},
   "outputs": [],
   "source": [
    "bodbor_set = (df['Activity'].loc[df['Activity'].str.contains('Board')])"
   ]
  },
  {
   "cell_type": "code",
   "execution_count": 420,
   "id": "6b38e491",
   "metadata": {},
   "outputs": [],
   "source": [
    "for i in bodbor_set:\n",
    "    df['Activity'].replace(i,'Surfing',inplace=True)"
   ]
  },
  {
   "cell_type": "code",
   "execution_count": null,
   "id": "e5921066",
   "metadata": {},
   "outputs": [],
   "source": []
  },
  {
   "cell_type": "code",
   "execution_count": null,
   "id": "6c6c2ea9",
   "metadata": {},
   "outputs": [],
   "source": []
  },
  {
   "cell_type": "code",
   "execution_count": null,
   "id": "ed8ccdd3",
   "metadata": {},
   "outputs": [],
   "source": []
  },
  {
   "cell_type": "code",
   "execution_count": null,
   "id": "2a1645fa",
   "metadata": {},
   "outputs": [],
   "source": []
  },
  {
   "cell_type": "code",
   "execution_count": 421,
   "id": "80cf4e0b",
   "metadata": {},
   "outputs": [
    {
     "data": {
      "text/plain": [
       "Boat swamped                        4\n",
       "Adrift after wave swamped engine    1\n",
       "Name: Activity, dtype: int64"
      ]
     },
     "execution_count": 421,
     "metadata": {},
     "output_type": "execute_result"
    }
   ],
   "source": [
    "df['Activity'].loc[df['Activity'].str.contains('swamped')].value_counts()"
   ]
  },
  {
   "cell_type": "code",
   "execution_count": null,
   "id": "6f030622",
   "metadata": {},
   "outputs": [],
   "source": []
  },
  {
   "cell_type": "code",
   "execution_count": null,
   "id": "765c4926",
   "metadata": {},
   "outputs": [],
   "source": []
  },
  {
   "cell_type": "code",
   "execution_count": null,
   "id": "c028932a",
   "metadata": {},
   "outputs": [],
   "source": []
  },
  {
   "cell_type": "code",
   "execution_count": null,
   "id": "cac7c2f3",
   "metadata": {},
   "outputs": [],
   "source": []
  },
  {
   "cell_type": "code",
   "execution_count": 422,
   "id": "5304349d",
   "metadata": {},
   "outputs": [],
   "source": [
    "#df.Activity.value_counts().to_excel('files_for_plots/activities_final_cleaning.xlsx')"
   ]
  },
  {
   "cell_type": "code",
   "execution_count": null,
   "id": "1b0df23c",
   "metadata": {},
   "outputs": [],
   "source": []
  },
  {
   "cell_type": "code",
   "execution_count": null,
   "id": "4dfe62f4",
   "metadata": {},
   "outputs": [],
   "source": []
  },
  {
   "cell_type": "code",
   "execution_count": null,
   "id": "be7ca47a",
   "metadata": {},
   "outputs": [],
   "source": []
  },
  {
   "cell_type": "code",
   "execution_count": null,
   "id": "57390317",
   "metadata": {},
   "outputs": [],
   "source": []
  },
  {
   "cell_type": "code",
   "execution_count": null,
   "id": "b4177317",
   "metadata": {},
   "outputs": [],
   "source": []
  },
  {
   "cell_type": "code",
   "execution_count": null,
   "id": "ced7ed68",
   "metadata": {},
   "outputs": [],
   "source": []
  },
  {
   "cell_type": "code",
   "execution_count": null,
   "id": "f6108a10",
   "metadata": {},
   "outputs": [],
   "source": []
  },
  {
   "cell_type": "code",
   "execution_count": null,
   "id": "ac3662b2",
   "metadata": {},
   "outputs": [],
   "source": []
  },
  {
   "cell_type": "code",
   "execution_count": null,
   "id": "2d748a65",
   "metadata": {},
   "outputs": [],
   "source": []
  },
  {
   "cell_type": "code",
   "execution_count": null,
   "id": "f1ae0579",
   "metadata": {},
   "outputs": [],
   "source": []
  },
  {
   "cell_type": "markdown",
   "id": "a6023ee5",
   "metadata": {},
   "source": [
    "# read the new excel file after final categorization"
   ]
  },
  {
   "cell_type": "code",
   "execution_count": 423,
   "id": "0ee4bae3",
   "metadata": {},
   "outputs": [],
   "source": [
    "df_final = pd.read_excel('files_for_plots/activities_final_file.xlsx')"
   ]
  },
  {
   "cell_type": "code",
   "execution_count": 424,
   "id": "342f70af",
   "metadata": {},
   "outputs": [
    {
     "data": {
      "text/html": [
       "<div>\n",
       "<style scoped>\n",
       "    .dataframe tbody tr th:only-of-type {\n",
       "        vertical-align: middle;\n",
       "    }\n",
       "\n",
       "    .dataframe tbody tr th {\n",
       "        vertical-align: top;\n",
       "    }\n",
       "\n",
       "    .dataframe thead th {\n",
       "        text-align: right;\n",
       "    }\n",
       "</style>\n",
       "<table border=\"1\" class=\"dataframe\">\n",
       "  <thead>\n",
       "    <tr style=\"text-align: right;\">\n",
       "      <th></th>\n",
       "      <th>Activity</th>\n",
       "      <th>Activity bucket</th>\n",
       "    </tr>\n",
       "  </thead>\n",
       "  <tbody>\n",
       "    <tr>\n",
       "      <th>0</th>\n",
       "      <td>Swimming</td>\n",
       "      <td>Swimming</td>\n",
       "    </tr>\n",
       "    <tr>\n",
       "      <th>1</th>\n",
       "      <td>Surfing</td>\n",
       "      <td>Surfing</td>\n",
       "    </tr>\n",
       "    <tr>\n",
       "      <th>2</th>\n",
       "      <td>Diving/Spearfishing</td>\n",
       "      <td>Diving/Spearfishing</td>\n",
       "    </tr>\n",
       "    <tr>\n",
       "      <th>3</th>\n",
       "      <td>Fishing</td>\n",
       "      <td>Fishing</td>\n",
       "    </tr>\n",
       "    <tr>\n",
       "      <th>4</th>\n",
       "      <td>Other</td>\n",
       "      <td>Other</td>\n",
       "    </tr>\n",
       "    <tr>\n",
       "      <th>...</th>\n",
       "      <td>...</td>\n",
       "      <td>...</td>\n",
       "    </tr>\n",
       "    <tr>\n",
       "      <th>330</th>\n",
       "      <td>Attempting to swim across the Atlantic Ocean</td>\n",
       "      <td>Swimming</td>\n",
       "    </tr>\n",
       "    <tr>\n",
       "      <th>331</th>\n",
       "      <td>Conducting a promotional film project for the ...</td>\n",
       "      <td>Other</td>\n",
       "    </tr>\n",
       "    <tr>\n",
       "      <th>332</th>\n",
       "      <td>Yacht Gooney Bird foundered, 4 survivors on raft</td>\n",
       "      <td>Sea disaster</td>\n",
       "    </tr>\n",
       "    <tr>\n",
       "      <th>333</th>\n",
       "      <td>Searching for remains of Dr. Marais</td>\n",
       "      <td>Other</td>\n",
       "    </tr>\n",
       "    <tr>\n",
       "      <th>334</th>\n",
       "      <td>Wooden fishing boat</td>\n",
       "      <td>Fishing</td>\n",
       "    </tr>\n",
       "  </tbody>\n",
       "</table>\n",
       "<p>335 rows × 2 columns</p>\n",
       "</div>"
      ],
      "text/plain": [
       "                                              Activity      Activity bucket\n",
       "0                                             Swimming             Swimming\n",
       "1                                              Surfing              Surfing\n",
       "2                                  Diving/Spearfishing  Diving/Spearfishing\n",
       "3                                              Fishing              Fishing\n",
       "4                                                Other                Other\n",
       "..                                                 ...                  ...\n",
       "330       Attempting to swim across the Atlantic Ocean             Swimming\n",
       "331  Conducting a promotional film project for the ...                Other\n",
       "332   Yacht Gooney Bird foundered, 4 survivors on raft         Sea disaster\n",
       "333                Searching for remains of Dr. Marais                Other\n",
       "334                                Wooden fishing boat              Fishing\n",
       "\n",
       "[335 rows x 2 columns]"
      ]
     },
     "execution_count": 424,
     "metadata": {},
     "output_type": "execute_result"
    }
   ],
   "source": [
    "df_final"
   ]
  },
  {
   "cell_type": "code",
   "execution_count": 425,
   "id": "cb66e6f1",
   "metadata": {},
   "outputs": [],
   "source": [
    "for i,row in enumerate(df_final.Activity):\n",
    "    df.replace(df_final['Activity'][i],df_final['Activity bucket'][i], inplace=True)"
   ]
  },
  {
   "cell_type": "code",
   "execution_count": 426,
   "id": "0c3f83b9",
   "metadata": {},
   "outputs": [
    {
     "data": {
      "text/plain": [
       "Swimming                    1479\n",
       "Surfing                     1350\n",
       "Diving/Spearfishing          979\n",
       "Fishing                      666\n",
       "Other                        627\n",
       "Wading/Standing              453\n",
       "Sea disaster                 310\n",
       "Shark related activities     243\n",
       "Jump/Fell overboard          142\n",
       "Kayaking                      89\n",
       "Boating                       76\n",
       "Air disaster                  48\n",
       "Name: Activity, dtype: int64"
      ]
     },
     "execution_count": 426,
     "metadata": {},
     "output_type": "execute_result"
    }
   ],
   "source": [
    "df['Activity'].value_counts()"
   ]
  },
  {
   "cell_type": "code",
   "execution_count": 427,
   "id": "81e4c4f9",
   "metadata": {},
   "outputs": [],
   "source": [
    "df['Activity'].replace('Sea disaster','Sea/Air disaster',inplace=True)"
   ]
  },
  {
   "cell_type": "code",
   "execution_count": 428,
   "id": "458583fd",
   "metadata": {},
   "outputs": [],
   "source": [
    "df['Activity'].replace('Air disaster','Sea/Air disaster',inplace=True)"
   ]
  },
  {
   "cell_type": "code",
   "execution_count": 429,
   "id": "f75744fe",
   "metadata": {},
   "outputs": [
    {
     "data": {
      "text/plain": [
       "Swimming                    1479\n",
       "Surfing                     1350\n",
       "Diving/Spearfishing          979\n",
       "Fishing                      666\n",
       "Other                        627\n",
       "Wading/Standing              453\n",
       "Sea/Air disaster             358\n",
       "Shark related activities     243\n",
       "Jump/Fell overboard          142\n",
       "Kayaking                      89\n",
       "Boating                       76\n",
       "Name: Activity, dtype: int64"
      ]
     },
     "execution_count": 429,
     "metadata": {},
     "output_type": "execute_result"
    }
   ],
   "source": [
    "df['Activity'].value_counts()"
   ]
  },
  {
   "cell_type": "code",
   "execution_count": null,
   "id": "622e186f",
   "metadata": {},
   "outputs": [],
   "source": []
  },
  {
   "cell_type": "code",
   "execution_count": 430,
   "id": "ae82af63",
   "metadata": {},
   "outputs": [],
   "source": [
    "df['Activity'].replace('Kayaking','Kayaking/Boating',inplace=True)"
   ]
  },
  {
   "cell_type": "code",
   "execution_count": 431,
   "id": "4de7733e",
   "metadata": {},
   "outputs": [],
   "source": [
    "df['Activity'].replace('Boating','Kayaking/Boating',inplace=True)"
   ]
  },
  {
   "cell_type": "code",
   "execution_count": 432,
   "id": "c36d70a4",
   "metadata": {},
   "outputs": [
    {
     "data": {
      "text/plain": [
       "Swimming                    1479\n",
       "Surfing                     1350\n",
       "Diving/Spearfishing          979\n",
       "Fishing                      666\n",
       "Other                        627\n",
       "Wading/Standing              453\n",
       "Sea/Air disaster             358\n",
       "Shark related activities     243\n",
       "Kayaking/Boating             165\n",
       "Jump/Fell overboard          142\n",
       "Name: Activity, dtype: int64"
      ]
     },
     "execution_count": 432,
     "metadata": {},
     "output_type": "execute_result"
    }
   ],
   "source": [
    "df['Activity'].value_counts()"
   ]
  },
  {
   "cell_type": "code",
   "execution_count": null,
   "id": "9a044462",
   "metadata": {},
   "outputs": [],
   "source": []
  },
  {
   "cell_type": "code",
   "execution_count": 433,
   "id": "8f869fa7",
   "metadata": {},
   "outputs": [],
   "source": [
    "#df.to_csv('attacks3.csv')"
   ]
  },
  {
   "cell_type": "code",
   "execution_count": null,
   "id": "9ab201af",
   "metadata": {},
   "outputs": [],
   "source": []
  },
  {
   "cell_type": "code",
   "execution_count": 434,
   "id": "9aaa8011",
   "metadata": {},
   "outputs": [
    {
     "data": {
      "text/plain": [
       "<AxesSubplot:>"
      ]
     },
     "execution_count": 434,
     "metadata": {},
     "output_type": "execute_result"
    },
    {
     "data": {
      "image/png": "[encoded data removed]",
      "text/plain": [
       "<Figure size 640x480 with 1 Axes>"
      ]
     },
     "metadata": {},
     "output_type": "display_data"
    }
   ],
   "source": [
    "df.Activity.value_counts().plot(kind='bar')"
   ]
  },
  {
   "cell_type": "code",
   "execution_count": 435,
   "id": "cc3e38de",
   "metadata": {},
   "outputs": [],
   "source": [
    "import seaborn as sns\n",
    "import matplotlib as plt"
   ]
  },
  {
   "cell_type": "code",
   "execution_count": 436,
   "id": "91c8eae3",
   "metadata": {},
   "outputs": [
    {
     "data": {
      "image/png": "[encoded data removed]",
      "text/plain": [
       "<Figure size 640x480 with 1 Axes>"
      ]
     },
     "metadata": {},
     "output_type": "display_data"
    }
   ],
   "source": [
    "act = sns.countplot(data=df,x=df.Activity,hue='Fatal (Y/N)')\n",
    "\n",
    "act2 = act.set_xticklabels(act.get_xticklabels(),rotation=30)\n"
   ]
  }
 ],
 "metadata": {
  "kernelspec": {
   "display_name": "Python 3 (ipykernel)",
   "language": "python",
   "name": "python3"
  },
  "language_info": {
   "codemirror_mode": {
    "name": "ipython",
    "version": 3
   },
   "file_extension": ".py",
   "mimetype": "text/x-python",
   "name": "python",
   "nbconvert_exporter": "python",
   "pygments_lexer": "ipython3",
   "version": "3.9.12"
  }
 },
 "nbformat": 4,
 "nbformat_minor": 5
}

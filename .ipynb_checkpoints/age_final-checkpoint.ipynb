{
 "cells": [
  {
   "cell_type": "code",
   "execution_count": 15,
   "id": "7969d8f9",
   "metadata": {},
   "outputs": [],
   "source": [
    "import pandas as pd\n",
    "import matplotlib as plt\n",
    "import seaborn as sns "
   ]
  },
  {
   "cell_type": "code",
   "execution_count": 16,
   "id": "7b7d2ba3",
   "metadata": {},
   "outputs": [],
   "source": [
    "df = pd.read_csv('files_for_plots/attacks2.csv')"
   ]
  },
  {
   "cell_type": "markdown",
   "id": "bd3da85b",
   "metadata": {},
   "source": [
    "# Age groups"
   ]
  },
  {
   "cell_type": "code",
   "execution_count": 17,
   "id": "a278caac",
   "metadata": {},
   "outputs": [],
   "source": [
    "df['Age'].fillna('No data',inplace=True)"
   ]
  },
  {
   "cell_type": "code",
   "execution_count": 18,
   "id": "f6446769",
   "metadata": {},
   "outputs": [],
   "source": [
    "for i in ['20s','30s','40s','50s','60s','70s','80s','90s']:\n",
    "    df['Age'].replace(i,i[:2],inplace=True)"
   ]
  },
  {
   "cell_type": "markdown",
   "id": "301bffe8",
   "metadata": {},
   "source": [
    "### Save the df to manualy cateorize ages to age groups"
   ]
  },
  {
   "cell_type": "code",
   "execution_count": 19,
   "id": "c05d4940",
   "metadata": {},
   "outputs": [],
   "source": [
    "df['Age'].value_counts().to_excel('cleaning_age.xlsx')"
   ]
  },
  {
   "cell_type": "markdown",
   "id": "b65d6bfa",
   "metadata": {},
   "source": [
    "### Get the new df after categorization"
   ]
  },
  {
   "cell_type": "code",
   "execution_count": 21,
   "id": "9a6335c0",
   "metadata": {},
   "outputs": [
    {
     "ename": "FileNotFoundError",
     "evalue": "[Errno 2] No such file or directory: 'files_for_plots/cleaning_age_clean.xlsx'",
     "output_type": "error",
     "traceback": [
      "\u001b[1;31m---------------------------------------------------------------------------\u001b[0m",
      "\u001b[1;31mFileNotFoundError\u001b[0m                         Traceback (most recent call last)",
      "\u001b[1;32m~\\AppData\\Local\\Temp\\ipykernel_223800\\1953140106.py\u001b[0m in \u001b[0;36m<module>\u001b[1;34m\u001b[0m\n\u001b[1;32m----> 1\u001b[1;33m \u001b[0mdf_age_groups\u001b[0m \u001b[1;33m=\u001b[0m \u001b[0mpd\u001b[0m\u001b[1;33m.\u001b[0m\u001b[0mread_excel\u001b[0m\u001b[1;33m(\u001b[0m\u001b[1;34m'files_for_plots/cleaning_age_clean.xlsx'\u001b[0m\u001b[1;33m)\u001b[0m\u001b[1;33m\u001b[0m\u001b[1;33m\u001b[0m\u001b[0m\n\u001b[0m",
      "\u001b[1;32m~\\anaconda3\\lib\\site-packages\\pandas\\util\\_decorators.py\u001b[0m in \u001b[0;36mwrapper\u001b[1;34m(*args, **kwargs)\u001b[0m\n\u001b[0;32m    309\u001b[0m                     \u001b[0mstacklevel\u001b[0m\u001b[1;33m=\u001b[0m\u001b[0mstacklevel\u001b[0m\u001b[1;33m,\u001b[0m\u001b[1;33m\u001b[0m\u001b[1;33m\u001b[0m\u001b[0m\n\u001b[0;32m    310\u001b[0m                 )\n\u001b[1;32m--> 311\u001b[1;33m             \u001b[1;32mreturn\u001b[0m \u001b[0mfunc\u001b[0m\u001b[1;33m(\u001b[0m\u001b[1;33m*\u001b[0m\u001b[0margs\u001b[0m\u001b[1;33m,\u001b[0m \u001b[1;33m**\u001b[0m\u001b[0mkwargs\u001b[0m\u001b[1;33m)\u001b[0m\u001b[1;33m\u001b[0m\u001b[1;33m\u001b[0m\u001b[0m\n\u001b[0m\u001b[0;32m    312\u001b[0m \u001b[1;33m\u001b[0m\u001b[0m\n\u001b[0;32m    313\u001b[0m         \u001b[1;32mreturn\u001b[0m \u001b[0mwrapper\u001b[0m\u001b[1;33m\u001b[0m\u001b[1;33m\u001b[0m\u001b[0m\n",
      "\u001b[1;32m~\\anaconda3\\lib\\site-packages\\pandas\\io\\excel\\_base.py\u001b[0m in \u001b[0;36mread_excel\u001b[1;34m(io, sheet_name, header, names, index_col, usecols, squeeze, dtype, engine, converters, true_values, false_values, skiprows, nrows, na_values, keep_default_na, na_filter, verbose, parse_dates, date_parser, thousands, decimal, comment, skipfooter, convert_float, mangle_dupe_cols, storage_options)\u001b[0m\n\u001b[0;32m    455\u001b[0m     \u001b[1;32mif\u001b[0m \u001b[1;32mnot\u001b[0m \u001b[0misinstance\u001b[0m\u001b[1;33m(\u001b[0m\u001b[0mio\u001b[0m\u001b[1;33m,\u001b[0m \u001b[0mExcelFile\u001b[0m\u001b[1;33m)\u001b[0m\u001b[1;33m:\u001b[0m\u001b[1;33m\u001b[0m\u001b[1;33m\u001b[0m\u001b[0m\n\u001b[0;32m    456\u001b[0m         \u001b[0mshould_close\u001b[0m \u001b[1;33m=\u001b[0m \u001b[1;32mTrue\u001b[0m\u001b[1;33m\u001b[0m\u001b[1;33m\u001b[0m\u001b[0m\n\u001b[1;32m--> 457\u001b[1;33m         \u001b[0mio\u001b[0m \u001b[1;33m=\u001b[0m \u001b[0mExcelFile\u001b[0m\u001b[1;33m(\u001b[0m\u001b[0mio\u001b[0m\u001b[1;33m,\u001b[0m \u001b[0mstorage_options\u001b[0m\u001b[1;33m=\u001b[0m\u001b[0mstorage_options\u001b[0m\u001b[1;33m,\u001b[0m \u001b[0mengine\u001b[0m\u001b[1;33m=\u001b[0m\u001b[0mengine\u001b[0m\u001b[1;33m)\u001b[0m\u001b[1;33m\u001b[0m\u001b[1;33m\u001b[0m\u001b[0m\n\u001b[0m\u001b[0;32m    458\u001b[0m     \u001b[1;32melif\u001b[0m \u001b[0mengine\u001b[0m \u001b[1;32mand\u001b[0m \u001b[0mengine\u001b[0m \u001b[1;33m!=\u001b[0m \u001b[0mio\u001b[0m\u001b[1;33m.\u001b[0m\u001b[0mengine\u001b[0m\u001b[1;33m:\u001b[0m\u001b[1;33m\u001b[0m\u001b[1;33m\u001b[0m\u001b[0m\n\u001b[0;32m    459\u001b[0m         raise ValueError(\n",
      "\u001b[1;32m~\\anaconda3\\lib\\site-packages\\pandas\\io\\excel\\_base.py\u001b[0m in \u001b[0;36m__init__\u001b[1;34m(self, path_or_buffer, engine, storage_options)\u001b[0m\n\u001b[0;32m   1374\u001b[0m                 \u001b[0mext\u001b[0m \u001b[1;33m=\u001b[0m \u001b[1;34m\"xls\"\u001b[0m\u001b[1;33m\u001b[0m\u001b[1;33m\u001b[0m\u001b[0m\n\u001b[0;32m   1375\u001b[0m             \u001b[1;32melse\u001b[0m\u001b[1;33m:\u001b[0m\u001b[1;33m\u001b[0m\u001b[1;33m\u001b[0m\u001b[0m\n\u001b[1;32m-> 1376\u001b[1;33m                 ext = inspect_excel_format(\n\u001b[0m\u001b[0;32m   1377\u001b[0m                     \u001b[0mcontent_or_path\u001b[0m\u001b[1;33m=\u001b[0m\u001b[0mpath_or_buffer\u001b[0m\u001b[1;33m,\u001b[0m \u001b[0mstorage_options\u001b[0m\u001b[1;33m=\u001b[0m\u001b[0mstorage_options\u001b[0m\u001b[1;33m\u001b[0m\u001b[1;33m\u001b[0m\u001b[0m\n\u001b[0;32m   1378\u001b[0m                 )\n",
      "\u001b[1;32m~\\anaconda3\\lib\\site-packages\\pandas\\io\\excel\\_base.py\u001b[0m in \u001b[0;36minspect_excel_format\u001b[1;34m(content_or_path, storage_options)\u001b[0m\n\u001b[0;32m   1248\u001b[0m         \u001b[0mcontent_or_path\u001b[0m \u001b[1;33m=\u001b[0m \u001b[0mBytesIO\u001b[0m\u001b[1;33m(\u001b[0m\u001b[0mcontent_or_path\u001b[0m\u001b[1;33m)\u001b[0m\u001b[1;33m\u001b[0m\u001b[1;33m\u001b[0m\u001b[0m\n\u001b[0;32m   1249\u001b[0m \u001b[1;33m\u001b[0m\u001b[0m\n\u001b[1;32m-> 1250\u001b[1;33m     with get_handle(\n\u001b[0m\u001b[0;32m   1251\u001b[0m         \u001b[0mcontent_or_path\u001b[0m\u001b[1;33m,\u001b[0m \u001b[1;34m\"rb\"\u001b[0m\u001b[1;33m,\u001b[0m \u001b[0mstorage_options\u001b[0m\u001b[1;33m=\u001b[0m\u001b[0mstorage_options\u001b[0m\u001b[1;33m,\u001b[0m \u001b[0mis_text\u001b[0m\u001b[1;33m=\u001b[0m\u001b[1;32mFalse\u001b[0m\u001b[1;33m\u001b[0m\u001b[1;33m\u001b[0m\u001b[0m\n\u001b[0;32m   1252\u001b[0m     ) as handle:\n",
      "\u001b[1;32m~\\anaconda3\\lib\\site-packages\\pandas\\io\\common.py\u001b[0m in \u001b[0;36mget_handle\u001b[1;34m(path_or_buf, mode, encoding, compression, memory_map, is_text, errors, storage_options)\u001b[0m\n\u001b[0;32m    793\u001b[0m         \u001b[1;32melse\u001b[0m\u001b[1;33m:\u001b[0m\u001b[1;33m\u001b[0m\u001b[1;33m\u001b[0m\u001b[0m\n\u001b[0;32m    794\u001b[0m             \u001b[1;31m# Binary mode\u001b[0m\u001b[1;33m\u001b[0m\u001b[1;33m\u001b[0m\u001b[0m\n\u001b[1;32m--> 795\u001b[1;33m             \u001b[0mhandle\u001b[0m \u001b[1;33m=\u001b[0m \u001b[0mopen\u001b[0m\u001b[1;33m(\u001b[0m\u001b[0mhandle\u001b[0m\u001b[1;33m,\u001b[0m \u001b[0mioargs\u001b[0m\u001b[1;33m.\u001b[0m\u001b[0mmode\u001b[0m\u001b[1;33m)\u001b[0m\u001b[1;33m\u001b[0m\u001b[1;33m\u001b[0m\u001b[0m\n\u001b[0m\u001b[0;32m    796\u001b[0m         \u001b[0mhandles\u001b[0m\u001b[1;33m.\u001b[0m\u001b[0mappend\u001b[0m\u001b[1;33m(\u001b[0m\u001b[0mhandle\u001b[0m\u001b[1;33m)\u001b[0m\u001b[1;33m\u001b[0m\u001b[1;33m\u001b[0m\u001b[0m\n\u001b[0;32m    797\u001b[0m \u001b[1;33m\u001b[0m\u001b[0m\n",
      "\u001b[1;31mFileNotFoundError\u001b[0m: [Errno 2] No such file or directory: 'files_for_plots/cleaning_age_clean.xlsx'"
     ]
    }
   ],
   "source": [
    "df_age_groups = pd.read_excel('files_for_plots/cleaning_age_clean.xlsx')"
   ]
  },
  {
   "cell_type": "code",
   "execution_count": null,
   "id": "508cc4c5",
   "metadata": {},
   "outputs": [],
   "source": [
    "df_age_groups = df_age_groups[['Age group','Counts']]"
   ]
  },
  {
   "cell_type": "code",
   "execution_count": null,
   "id": "aae2249d",
   "metadata": {},
   "outputs": [],
   "source": [
    "groupby = df_age_groups.groupby(by='Age group').sum()"
   ]
  },
  {
   "cell_type": "code",
   "execution_count": null,
   "id": "97fedd5e",
   "metadata": {},
   "outputs": [],
   "source": [
    "groupby.reset_index(inplace=True)"
   ]
  },
  {
   "cell_type": "code",
   "execution_count": null,
   "id": "929b253f",
   "metadata": {},
   "outputs": [],
   "source": [
    "groupby"
   ]
  },
  {
   "cell_type": "code",
   "execution_count": null,
   "id": "8bca81b7",
   "metadata": {},
   "outputs": [],
   "source": [
    "age_groups = sns.barplot(data=groupby,\n",
    "                         x='Counts',\n",
    "                         y='Age group',\n",
    "                         order=['Child/Teen 0-17','Young Adult 18-35',\n",
    "                                'Middle-aged adult 35-65','Elderly 65+','No data'],\n",
    "                         palette='Blues_r')\n",
    "\n",
    "for p in age_groups.patches:\n",
    "    if p.get_width()>100:\n",
    "        age_groups.annotate(str(p.get_width().astype('int')),(p.get_width() / 2, p.get_y() + 0.45))\n",
    "    else:\n",
    "        age_groups.annotate(str(p.get_width().astype('int')),(p.get_width() * 1.7 , p.get_y() + 0.45))\n",
    "\n",
    "    \n",
    "    \n",
    "age_groups.set(title='Shark attacks for each age group')\n",
    "\n",
    "fig = age_groups.get_figure()\n",
    "#fig.savefig(\"ages.png\",bbox_inches='tight')"
   ]
  },
  {
   "cell_type": "code",
   "execution_count": null,
   "id": "1040fd0e",
   "metadata": {},
   "outputs": [],
   "source": []
  },
  {
   "cell_type": "markdown",
   "id": "a0ac3252",
   "metadata": {},
   "source": [
    "# Fatal - Non Fatal attacks / Age group"
   ]
  },
  {
   "cell_type": "code",
   "execution_count": null,
   "id": "8aa8f79b",
   "metadata": {},
   "outputs": [],
   "source": [
    "for i in df['Fatal (Y/N)']:\n",
    "    if i in ['F','M','2017','UNKNOWN']:\n",
    "        df.loc[df['Fatal (Y/N)']==i,'Fatal (Y/N)']= 'No data'\n",
    "        \n",
    "df['Fatal (Y/N)'] = df['Fatal (Y/N)'].fillna('No data')\n",
    "\n",
    "df.loc[df['Fatal (Y/N)']=='y','Fatal (Y/N)']= 'Y'\n",
    "\n",
    "df['Year'].replace({3019:2019},inplace=True)\n",
    "\n",
    "df.loc[df['Fatal (Y/N)']=='Y','Fatal (Y/N)']= 'Fatal'\n",
    "df.loc[df['Fatal (Y/N)']=='N','Fatal (Y/N)']= 'Non fatal'"
   ]
  },
  {
   "cell_type": "code",
   "execution_count": null,
   "id": "63b32359",
   "metadata": {},
   "outputs": [],
   "source": []
  },
  {
   "cell_type": "code",
   "execution_count": null,
   "id": "e5f3b218",
   "metadata": {},
   "outputs": [],
   "source": [
    "df_age = pd.read_excel('cleaning_age_clean.xlsx')"
   ]
  },
  {
   "cell_type": "code",
   "execution_count": null,
   "id": "93460ffd",
   "metadata": {},
   "outputs": [],
   "source": [
    "for i in df_age_groups.index: \n",
    "    df.replace(df_age['Age'][i], df_age['Age group'][i],inplace=True)"
   ]
  },
  {
   "cell_type": "code",
   "execution_count": null,
   "id": "2c133084",
   "metadata": {},
   "outputs": [],
   "source": [
    "age_fatal = sns.countplot(data=df,\n",
    "                        y='Age',\n",
    "                        hue='Fatal (Y/N)',\n",
    "                        palette='Blues_r',\n",
    "                        order=['Child/Teen 0-17','Young Adult 18-35','Middle-aged adult 35-65','Elderly 65+','No data'])\n",
    "\n",
    "age_fatal.set(title='Fatal/Non fatal attacks for each age group')\n",
    "\n",
    "for p in age_fatal.patches:\n",
    "    if p.get_width()>150:\n",
    "        age_fatal.annotate(str(p.get_width().astype('int')),(p.get_width()-130,p.get_y()+0.2))\n",
    "    else:\n",
    "        age_fatal.annotate(str(p.get_width().astype('int')),(p.get_width(),p.get_y()+0.2))\n",
    "\n",
    "fig = age_fatal.get_figure()\n",
    "#fig.savefig(\"ages_fatal.png\",bbox_inches='tight')"
   ]
  },
  {
   "cell_type": "code",
   "execution_count": null,
   "id": "2e6bb2fe",
   "metadata": {},
   "outputs": [],
   "source": []
  },
  {
   "cell_type": "markdown",
   "id": "30b86aa8",
   "metadata": {},
   "source": [
    "# Provoked - Unprovoked attacks / Age group"
   ]
  },
  {
   "cell_type": "code",
   "execution_count": null,
   "id": "b1ca93f8",
   "metadata": {},
   "outputs": [],
   "source": [
    "df = df.replace({'Type' : {'Questionable':'Unverified', 'Unconfirmed':'Unverified', 'Invalid':'Unverified','Under investigation':'Unverified',\n",
    "                          'Sea Disaster':'Boating','Boat':'Boating','Watercraft':'Boating','Boatomg':'Boating'}})"
   ]
  },
  {
   "cell_type": "code",
   "execution_count": null,
   "id": "f639e715",
   "metadata": {},
   "outputs": [],
   "source": [
    "age_provoked = sns.countplot(data=df,\n",
    "                             y='Age',\n",
    "                             hue='Type',\n",
    "                             palette='Blues_r',\n",
    "                             order=['Child/Teen 0-17',\n",
    "                                    'Young Adult 18-35',\n",
    "                                    'Middle-aged adult 35-65',\n",
    "                                    'Elderly 65+',\n",
    "                                    'No data'])\n",
    "\n",
    "age_provoked.set(title='Provoked/Unprovoked attacks for each month')\n",
    "\n",
    "for p in age_provoked.patches:\n",
    "    if p.get_width()>150:\n",
    "        age_provoked.annotate(str(p.get_width().astype('int')),(p.get_width()-130,p.get_y()+0.15))\n",
    "    else:\n",
    "        age_provoked.annotate(str(p.get_width().astype('int')),(p.get_width(),p.get_y()+0.15))\n",
    "\n",
    "fig = age_provoked.get_figure()\n",
    "fig.savefig(\"ages_provoked.png\",bbox_inches='tight')"
   ]
  },
  {
   "cell_type": "code",
   "execution_count": null,
   "id": "6dc23396",
   "metadata": {},
   "outputs": [],
   "source": []
  }
 ],
 "metadata": {
  "kernelspec": {
   "display_name": "Python 3 (ipykernel)",
   "language": "python",
   "name": "python3"
  },
  "language_info": {
   "codemirror_mode": {
    "name": "ipython",
    "version": 3
   },
   "file_extension": ".py",
   "mimetype": "text/x-python",
   "name": "python",
   "nbconvert_exporter": "python",
   "pygments_lexer": "ipython3",
   "version": "3.9.12"
  }
 },
 "nbformat": 4,
 "nbformat_minor": 5
}
